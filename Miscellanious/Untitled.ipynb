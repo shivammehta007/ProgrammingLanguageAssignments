{
 "cells": [
  {
   "cell_type": "markdown",
   "metadata": {},
   "source": [
    "# Using KNN From SciLearn"
   ]
  },
  {
   "cell_type": "code",
   "execution_count": 1,
   "metadata": {},
   "outputs": [],
   "source": [
    "from sklearn.base import BaseEstimator\n",
    "from sklearn.neighbors import KDTree\n",
    "import math\n",
    "import numpy as np\n",
    "from random import shuffle\n",
    "from sklearn.metrics import f1_score\n"
   ]
  },
  {
   "cell_type": "code",
   "execution_count": null,
   "metadata": {},
   "outputs": [],
   "source": [
    "class MyKNN(BaseEstimator):\n",
    "    def __init__(self, n_neighbors=5):\n",
    "        self.n_neighbors = n_neighbors\n",
    "        \n",
    "    def fit(self, X):\n",
    "        X, Y = splitXandY(X)\n",
    "        self.tree = KDTree(X, leaf_size=2) \n",
    "        self.labels = Y\n",
    "        return self\n",
    "    \n",
    "    def predict(self, X):\n",
    "        # Predict the class labels for the provided data\n",
    "        X, true_labels = splitXandY(X)\n",
    "        dist, ind = self.tree.query(X, k=self.n_neighbors)\n",
    "        predictions = []\n",
    "        #print(ind)\n",
    "        for x in range(len(X)):\n",
    "            labels = {0 : 0, 1 : 0} # dict of possible labels -- 0 and 1\n",
    "            for i in range(len(ind[x])):\n",
    "                label = self.labels[ind[x][i]]\n",
    "                labels[label] += 1\n",
    "            pred=  max(labels, key = labels.get)\n",
    "            predictions.append(pred)\n",
    "        print(\"F1 score is equal to \" + repr(f1_score(true_labels, predictions, average='weighted')))\n",
    "        return predictions\n",
    "    "
   ]
  }
 ],
 "metadata": {
  "kernelspec": {
   "display_name": "Python 3",
   "language": "python",
   "name": "python3"
  },
  "language_info": {
   "codemirror_mode": {
    "name": "ipython",
    "version": 3
   },
   "file_extension": ".py",
   "mimetype": "text/x-python",
   "name": "python",
   "nbconvert_exporter": "python",
   "pygments_lexer": "ipython3",
   "version": "3.6.7"
  }
 },
 "nbformat": 4,
 "nbformat_minor": 2
}
